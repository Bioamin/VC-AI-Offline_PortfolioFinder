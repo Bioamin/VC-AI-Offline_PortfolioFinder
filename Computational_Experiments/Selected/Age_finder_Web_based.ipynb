{
 "cells": [
  {
   "cell_type": "code",
   "execution_count": null,
   "metadata": {},
   "outputs": [],
   "source": [
    "#This code find the age of companies based on AI and web search"
   ]
  },
  {
   "cell_type": "code",
   "execution_count": 9,
   "metadata": {},
   "outputs": [
    {
     "name": "stdout",
     "output_type": "stream",
     "text": [
      "{'Recursion Pharmaceuticals'} {10}\n",
      "{'GreenLight Biosciences'} {12}\n",
      "{'Finch Therapeutics Group'} {7}\n",
      "{'Adicet Bio (ACET)'} {8}\n",
      "{'NextCure'} {7}\n",
      "{'Surrozen'} {6}\n",
      "{'MaaT'} {3}\n",
      "{'Anavex Life Sciences Corp'} {17}\n",
      "{'BiomX Inc.'} {8}\n",
      "{'TCR2 Therapeutics'} {11}\n",
      "{'Vor Biopharma'} {7}\n",
      "{'Integral'} {17}\n",
      "{'Prothena Corporation'} {40}\n",
      "{'apeximmune'} {15}\n",
      "{'Numab'} {9}\n",
      "{'AcuamarkDx Inc'} {12}\n",
      "{'Alto Neuroscience'} {10}\n",
      "{'AsclepiX'} {3}\n",
      "{'Zehna'} {19}\n",
      "{'Bectas Therapeutics'} {4}\n",
      "{'Arcutis Biotherapeutics'} {7}\n",
      "{'Centurion BioPharma'} {9}\n",
      "{'coding.bio'} {7}\n",
      "{'Circadian Therapeutics'} {10}\n",
      "{'Dianomi Therapeutics'} {9}\n",
      "{'Engrail'} {10}\n",
      "{'Flare Therapeutics'} {8}\n",
      "{'Grace Science'} {11}\n",
      "{'Graviton Biopharmaceuticals Holding Corporation'} {4}\n"
     ]
    }
   ],
   "source": [
    "import openai\n",
    "import configparser\n",
    "import re\n",
    "\n",
    "def load_openai_api_key():\n",
    "    config = configparser.ConfigParser()\n",
    "    config.read(\"config.ini\")\n",
    "    return config[\"openai\"][\"api_key\"]\n",
    "\n",
    "def get_founding_year(company_name, api_key):\n",
    "    openai.api_key = api_key\n",
    "    response = openai.Completion.create(\n",
    "        engine=\"text-davinci-002\",\n",
    "        prompt=f\"When was {company_name} founded?\",\n",
    "        max_tokens=50,\n",
    "        n=1,\n",
    "        stop=None,\n",
    "        temperature=0.5,\n",
    "    )\n",
    "\n",
    "    message = response.choices[0].text.strip()\n",
    "    match = re.search(r\"(\\d{4})\", message)\n",
    "    if match:\n",
    "        return int(match.group(1))\n",
    "    else:\n",
    "        return None\n",
    "\n",
    "def get_company_age(founding_year, current_year=2023):\n",
    "    if founding_year is None:\n",
    "        return None\n",
    "    return current_year - founding_year\n",
    "\n",
    "def get_founding_years_and_ages(companies, api_key):\n",
    "    founding_years_and_ages = {}\n",
    "    for company in companies:\n",
    "        year = get_founding_year(company, api_key)\n",
    "        age = get_company_age(year)\n",
    "        if year is not None and age is not None:\n",
    "            founding_years_and_ages[company] = (year, age)\n",
    "        else:\n",
    "            print({company},\"N/A\")\n",
    "    return founding_years_and_ages\n",
    "\n",
    "if __name__ == \"__main__\":\n",
    "    companies = ['Recursion Pharmaceuticals', 'GreenLight Biosciences', 'Finch Therapeutics Group', 'Adicet Bio (ACET)', 'NextCure', 'Surrozen', 'MaaT', 'Anavex Life Sciences Corp', 'BiomX Inc.', 'TCR2 Therapeutics', 'Vor Biopharma', 'Integral', 'Prothena Corporation', 'apeximmune', 'Numab', 'AcuamarkDx Inc', 'Alto Neuroscience', 'AsclepiX', 'Zehna', 'Bectas Therapeutics', 'Arcutis Biotherapeutics', 'Centurion BioPharma', 'coding.bio', 'Circadian Therapeutics', 'Dianomi Therapeutics', 'Engrail', 'Flare Therapeutics', 'Grace Science', 'Graviton Biopharmaceuticals Holding Corporation']\n",
    "    api_key = load_openai_api_key()\n",
    "    founding_years_and_ages = get_founding_years_and_ages(companies, api_key)\n",
    "    for company, (year, age) in founding_years_and_ages.items():\n",
    "        #print(f\"{company} was founded in {year} and is {age} years old.\")\n",
    "        print({company},{age})\n"
   ]
  },
  {
   "cell_type": "code",
   "execution_count": null,
   "metadata": {},
   "outputs": [],
   "source": []
  },
  {
   "cell_type": "code",
   "execution_count": null,
   "metadata": {},
   "outputs": [],
   "source": []
  }
 ],
 "metadata": {
  "kernelspec": {
   "display_name": "Python 3",
   "language": "python",
   "name": "python3"
  },
  "language_info": {
   "codemirror_mode": {
    "name": "ipython",
    "version": 3
   },
   "file_extension": ".py",
   "mimetype": "text/x-python",
   "name": "python",
   "nbconvert_exporter": "python",
   "pygments_lexer": "ipython3",
   "version": "3.8.5"
  }
 },
 "nbformat": 4,
 "nbformat_minor": 4
}
