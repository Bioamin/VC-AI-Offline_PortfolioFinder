{
 "cells": [
  {
   "cell_type": "code",
   "execution_count": 5,
   "metadata": {},
   "outputs": [],
   "source": [
    "####################################################################################\n",
    "# Amin Boroomand March2023\n",
    "#This code moves currupted and encrypted and similar PDF files to junk folder\n",
    "#\n",
    "######################################################################################"
   ]
  },
  {
   "cell_type": "code",
   "execution_count": 8,
   "metadata": {},
   "outputs": [
    {
     "name": "stderr",
     "output_type": "stream",
     "text": [
      "WARNING:PyPDF2._reader:Xref table not zero-indexed. ID numbers for objects will be corrected.\n",
      "WARNING:PyPDF2._reader:Xref table not zero-indexed. ID numbers for objects will be corrected.\n",
      "WARNING:PyPDF2._reader:Xref table not zero-indexed. ID numbers for objects will be corrected.\n",
      "WARNING:PyPDF2._reader:Xref table not zero-indexed. ID numbers for objects will be corrected.\n",
      "WARNING:PyPDF2._reader:Xref table not zero-indexed. ID numbers for objects will be corrected.\n",
      "WARNING:PyPDF2._reader:Xref table not zero-indexed. ID numbers for objects will be corrected.\n",
      "WARNING:PyPDF2._reader:Xref table not zero-indexed. ID numbers for objects will be corrected.\n",
      "WARNING:PyPDF2._reader:Xref table not zero-indexed. ID numbers for objects will be corrected.\n",
      "WARNING:PyPDF2._reader:Xref table not zero-indexed. ID numbers for objects will be corrected.\n",
      "WARNING:PyPDF2._reader:Xref table not zero-indexed. ID numbers for objects will be corrected.\n"
     ]
    }
   ],
   "source": [
    "import os\n",
    "import shutil\n",
    "import pdfreader\n",
    "from pdfreader import PDFDocument\n",
    "from PyPDF2 import PdfFileReader as PyPDF2Reader\n",
    "\n",
    "def is_corrupted(file_path):\n",
    "    try:\n",
    "        with open(file_path, \"rb\") as fd:\n",
    "            doc = PDFDocument(fd)\n",
    "    except Exception as e:\n",
    "        return True\n",
    "    return False\n",
    "\n",
    "def is_password_protected(file_path):\n",
    "    reader = PyPDF2Reader(file_path)\n",
    "    return reader.isEncrypted\n",
    "\n",
    "source_folder = \"/Users/amin/Desktop/33/1_100\"\n",
    "junk_folder = os.path.join(source_folder, \"junk\")\n",
    "\n",
    "if not os.path.exists(junk_folder):\n",
    "    os.mkdir(junk_folder)\n",
    "\n",
    "report_path = os.path.join(junk_folder, \"report.txt\")\n",
    "\n",
    "with open(report_path, \"w\") as report_file:\n",
    "    for filename in os.listdir(source_folder):\n",
    "        if filename.lower().endswith(\".pdf\"):\n",
    "            file_path = os.path.join(source_folder, filename)\n",
    "\n",
    "            if is_corrupted(file_path):\n",
    "                reason = \"corrupted\"\n",
    "            elif is_password_protected(file_path):\n",
    "                reason = \"password protected\"\n",
    "            else:\n",
    "                continue\n",
    "\n",
    "            log_message = f\"{filename} - Moved to junk folder due to: {reason}\\n\"\n",
    "            report_file.write(log_message)\n",
    "            shutil.move(file_path, os.path.join(junk_folder, filename))\n"
   ]
  },
  {
   "cell_type": "code",
   "execution_count": null,
   "metadata": {},
   "outputs": [],
   "source": []
  }
 ],
 "metadata": {
  "kernelspec": {
   "display_name": "Python 3",
   "language": "python",
   "name": "python3"
  },
  "language_info": {
   "codemirror_mode": {
    "name": "ipython",
    "version": 3
   },
   "file_extension": ".py",
   "mimetype": "text/x-python",
   "name": "python",
   "nbconvert_exporter": "python",
   "pygments_lexer": "ipython3",
   "version": "3.8.5"
  }
 },
 "nbformat": 4,
 "nbformat_minor": 4
}
