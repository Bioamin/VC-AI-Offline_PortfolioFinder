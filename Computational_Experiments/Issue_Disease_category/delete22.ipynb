{
 "cells": [
  {
   "cell_type": "code",
   "execution_count": 2,
   "id": "4abb8c0d",
   "metadata": {},
   "outputs": [
    {
     "name": "stderr",
     "output_type": "stream",
     "text": [
      "No model was supplied, defaulted to distilbert-base-cased-distilled-squad and revision 626af31 (https://huggingface.co/distilbert-base-cased-distilled-squad).\n",
      "Using a pipeline without specifying a model name and revision in production is not recommended.\n"
     ]
    },
    {
     "ename": "ValueError",
     "evalue": "Unknown arguments {'model_inputs': {'input_ids': tensor([[  101, 18732, 20336,  9565, 13821,  2036, 18581,  1658, 18135,  1203,\n         23994,  3309,  1403,  1306,  1107,  1103, 19165,  1104, 20394, 26003,\n          9847,  4695, 20012,  2249, 18122, 10615,   117, 17881,  1477, 24654,\n          2101,  9637, 17444, 15517, 10069,   149, 12420, 20427,  8900,  3048,\n         11410,   123,  1658, 11787,  3848,  8989,  1658,  3031, 11470,  4183,\n          4124,  5466, 26123, 11553,  2101,  1324, 15556,  3031, 11470,  8787,\n          4124,  1823, 25702,  9291,  1116,  2101,  1324, 15556, 15391,  1776,\n          1616,   117, 17023,   111,  6342, 13809, 13199,  5838,  9126,  4342,\n         22534,   204, 10288,  1107, 10351,   132,   170,  6898,   118,  1149,\n          1121,  1103,  5364, 18601,   113, 21362,  2271,   114,   204,   109,\n           127,   119,   123,  2107,  6478,  1121, 21362,  2271,  1105, 18235,\n          1116,  2346,  3031,  1186,   204, 21902, 10522,  2042,  1104, 14056,\n          2036,  1353, 10799,  1115,  1107, 23034,   157,  8271,   120,   157,\n          8271,  2346,   115,  1707,   117,   170,  2281,  3445,  1104,   140,\n          2428,  2137,   204,  1203,  2747, 19560,  4010,   113, 15411,  1658,\n         25928,  2217,   114,   117,  1884,  4934,  2002,   113,  1664,   118,\n         27410,   114,  3469,   204,   157,  8271,  2346, 25128,  8519,  1200,\n           117,  1769,  1884, 13252,  1204,  2233,  1884, 18337,  3798,   157,\n          8271,  2346,   113,   135,   126, 28349,  1306,   114,  1114,  2869,\n          3653, 13950,   124,  1708,  1818,  7317,  1183,  2162, 12393, 18555,\n         11410,  1708, 15297,   138,   204, 24930, 18380,  1158,  1126,  8362,\n          7877,  2913,  3445,  1104, 13306, 16042,  3653,   113,   140,  2428,\n          2137,   114,  1114,  1887,  3254,  1766, 14598,  4233,   204, 18959,\n          5208, 16764,  1107,   140, 23935,  1105, 17355, 12725,  4863,   204,\n         15969,  2137,   118,  2407,  1107, 17881,  1527,   204, 11661, 14274,\n         12256,  8547,  2510,  3850,  4765,   117, 22661,  1105,  1329,   204,\n         24689,  1181, 14274,  7097,  1121, 21362,  2271,   204,  1249, 27948,\n          2888,  1113, 11169,  2538,   204, 20089,  4253,   170,   109,  1476,\n          1550,  2768,   138, 13080,   204, 15969,  2137,   118, 12619,   117,\n         22661,  1718,  1105,   140, 10044,   117, 12278,   122,  2025,   113,\n           116,  7642, 24275,  2528, 24662, 18959,  2101,   114,   204, 12798,\n          2509,  3850,  4765,   204, 16752,  6105,  4175,  1459,  1264,  1104,\n          2380,  8724,   115,   157,  8271,   113,   152,   114,   134, 18491,\n         11006, 18873, 19577,   151,   118,   152,  8745,  2007,  9272, 21564,\n         11780,   142,  3190, 10147, 12412, 26140,   153, 11410, 21678, 11607,\n          2036,   125,  5301,  1942,  1775, 10424,  1475,  6844, 12556,  1513,\n         21025,  5301,  1942,  1775, 10424,  1477,  6844, 12556,  1513, 21025,\n          5301,  1942,  1775, 10424,  1495,  6844, 12556,  1513, 21025,   135,\n          1476,  4252,  1643, 24171]]), 'attention_mask': tensor([[1, 1, 1, 1, 1, 1, 1, 1, 1, 1, 1, 1, 1, 1, 1, 1, 1, 1, 1, 1, 1, 1, 1, 1,\n         1, 1, 1, 1, 1, 1, 1, 1, 1, 1, 1, 1, 1, 1, 1, 1, 1, 1, 1, 1, 1, 1, 1, 1,\n         1, 1, 1, 1, 1, 1, 1, 1, 1, 1, 1, 1, 1, 1, 1, 1, 1, 1, 1, 1, 1, 1, 1, 1,\n         1, 1, 1, 1, 1, 1, 1, 1, 1, 1, 1, 1, 1, 1, 1, 1, 1, 1, 1, 1, 1, 1, 1, 1,\n         1, 1, 1, 1, 1, 1, 1, 1, 1, 1, 1, 1, 1, 1, 1, 1, 1, 1, 1, 1, 1, 1, 1, 1,\n         1, 1, 1, 1, 1, 1, 1, 1, 1, 1, 1, 1, 1, 1, 1, 1, 1, 1, 1, 1, 1, 1, 1, 1,\n         1, 1, 1, 1, 1, 1, 1, 1, 1, 1, 1, 1, 1, 1, 1, 1, 1, 1, 1, 1, 1, 1, 1, 1,\n         1, 1, 1, 1, 1, 1, 1, 1, 1, 1, 1, 1, 1, 1, 1, 1, 1, 1, 1, 1, 1, 1, 1, 1,\n         1, 1, 1, 1, 1, 1, 1, 1, 1, 1, 1, 1, 1, 1, 1, 1, 1, 1, 1, 1, 1, 1, 1, 1,\n         1, 1, 1, 1, 1, 1, 1, 1, 1, 1, 1, 1, 1, 1, 1, 1, 1, 1, 1, 1, 1, 1, 1, 1,\n         1, 1, 1, 1, 1, 1, 1, 1, 1, 1, 1, 1, 1, 1, 1, 1, 1, 1, 1, 1, 1, 1, 1, 1,\n         1, 1, 1, 1, 1, 1, 1, 1, 1, 1, 1, 1, 1, 1, 1, 1, 1, 1, 1, 1, 1, 1, 1, 1,\n         1, 1, 1, 1, 1, 1, 1, 1, 1, 1, 1, 1, 1, 1, 1, 1, 1, 1, 1, 1, 1, 1, 1, 1,\n         1, 1, 1, 1, 1, 1, 1, 1, 1, 1, 1, 1, 1, 1, 1, 1, 1, 1, 1, 1, 1, 1, 1, 1,\n         1, 1, 1, 1, 1, 1, 1, 1, 1, 1, 1, 1, 1, 1, 1, 1, 1, 1, 1, 1, 1, 1, 1, 1,\n         1, 1, 1, 1, 1, 1, 1, 1, 1, 1, 1, 1, 1, 1, 1, 1, 1, 1, 1, 1, 1, 1, 1, 1]])}, 'question': 'What are the 3 main disease-related keywords in the text?'}",
     "output_type": "error",
     "traceback": [
      "\u001b[0;31m---------------------------------------------------------------------------\u001b[0m",
      "\u001b[0;31mValueError\u001b[0m                                Traceback (most recent call last)",
      "Cell \u001b[0;32mIn[2], line 43\u001b[0m\n\u001b[1;32m     41\u001b[0m         pdf_path \u001b[38;5;241m=\u001b[39m os\u001b[38;5;241m.\u001b[39mpath\u001b[38;5;241m.\u001b[39mjoin(pdf_folder, file)\n\u001b[1;32m     42\u001b[0m         text \u001b[38;5;241m=\u001b[39m extract_text_from_pdf(pdf_path)\n\u001b[0;32m---> 43\u001b[0m         top_3_diseases \u001b[38;5;241m=\u001b[39m \u001b[43mfind_top_3_diseases\u001b[49m\u001b[43m(\u001b[49m\u001b[43mtext\u001b[49m\u001b[43m)\u001b[49m\n\u001b[1;32m     44\u001b[0m         data\u001b[38;5;241m.\u001b[39mappend({\u001b[38;5;124m\"\u001b[39m\u001b[38;5;124mFile\u001b[39m\u001b[38;5;124m\"\u001b[39m: file[:\u001b[38;5;241m-\u001b[39m\u001b[38;5;241m4\u001b[39m], \u001b[38;5;124m\"\u001b[39m\u001b[38;5;124mIssue_KW\u001b[39m\u001b[38;5;124m\"\u001b[39m: top_3_diseases})\n\u001b[1;32m     46\u001b[0m \u001b[38;5;66;03m# Create a DataFrame and save it as a CSV file\u001b[39;00m\n",
      "Cell \u001b[0;32mIn[2], line 26\u001b[0m, in \u001b[0;36mfind_top_3_diseases\u001b[0;34m(text, max_tokens)\u001b[0m\n\u001b[1;32m     24\u001b[0m input_chunk \u001b[38;5;241m=\u001b[39m tokenized_text\u001b[38;5;241m.\u001b[39minput_ids[:, start:end]\n\u001b[1;32m     25\u001b[0m attention_mask_chunk \u001b[38;5;241m=\u001b[39m tokenized_text\u001b[38;5;241m.\u001b[39mattention_mask[:, start:end]\n\u001b[0;32m---> 26\u001b[0m answer \u001b[38;5;241m=\u001b[39m \u001b[43mnlp\u001b[49m\u001b[43m(\u001b[49m\u001b[43mmodel_inputs\u001b[49m\u001b[38;5;241;43m=\u001b[39;49m\u001b[43m{\u001b[49m\u001b[38;5;124;43m\"\u001b[39;49m\u001b[38;5;124;43minput_ids\u001b[39;49m\u001b[38;5;124;43m\"\u001b[39;49m\u001b[43m:\u001b[49m\u001b[43m \u001b[49m\u001b[43minput_chunk\u001b[49m\u001b[43m,\u001b[49m\u001b[43m \u001b[49m\u001b[38;5;124;43m\"\u001b[39;49m\u001b[38;5;124;43mattention_mask\u001b[39;49m\u001b[38;5;124;43m\"\u001b[39;49m\u001b[43m:\u001b[49m\u001b[43m \u001b[49m\u001b[43mattention_mask_chunk\u001b[49m\u001b[43m}\u001b[49m\u001b[43m,\u001b[49m\u001b[43m \u001b[49m\u001b[43mquestion\u001b[49m\u001b[38;5;241;43m=\u001b[39;49m\u001b[43mquestion\u001b[49m\u001b[43m)\u001b[49m\n\u001b[1;32m     27\u001b[0m \u001b[38;5;28;01mif\u001b[39;00m answer[\u001b[38;5;124m\"\u001b[39m\u001b[38;5;124mscore\u001b[39m\u001b[38;5;124m\"\u001b[39m] \u001b[38;5;241m>\u001b[39m \u001b[38;5;241m0.5\u001b[39m:\n\u001b[1;32m     28\u001b[0m     \u001b[38;5;28;01mreturn\u001b[39;00m answer[\u001b[38;5;124m\"\u001b[39m\u001b[38;5;124manswer\u001b[39m\u001b[38;5;124m\"\u001b[39m]\n",
      "File \u001b[0;32m/opt/anaconda3/lib/python3.8/site-packages/transformers/pipelines/question_answering.py:390\u001b[0m, in \u001b[0;36mQuestionAnsweringPipeline.__call__\u001b[0;34m(self, *args, **kwargs)\u001b[0m\n\u001b[1;32m    343\u001b[0m \u001b[38;5;124;03m\"\"\"\u001b[39;00m\n\u001b[1;32m    344\u001b[0m \u001b[38;5;124;03mAnswer the question(s) given as inputs by using the context(s).\u001b[39;00m\n\u001b[1;32m    345\u001b[0m \n\u001b[0;32m   (...)\u001b[0m\n\u001b[1;32m    385\u001b[0m \u001b[38;5;124;03m    - **answer** (`str`) -- The answer to the question.\u001b[39;00m\n\u001b[1;32m    386\u001b[0m \u001b[38;5;124;03m\"\"\"\u001b[39;00m\n\u001b[1;32m    388\u001b[0m \u001b[38;5;66;03m# Convert inputs to features\u001b[39;00m\n\u001b[0;32m--> 390\u001b[0m examples \u001b[38;5;241m=\u001b[39m \u001b[38;5;28;43mself\u001b[39;49m\u001b[38;5;241;43m.\u001b[39;49m\u001b[43m_args_parser\u001b[49m\u001b[43m(\u001b[49m\u001b[38;5;241;43m*\u001b[39;49m\u001b[43margs\u001b[49m\u001b[43m,\u001b[49m\u001b[43m \u001b[49m\u001b[38;5;241;43m*\u001b[39;49m\u001b[38;5;241;43m*\u001b[39;49m\u001b[43mkwargs\u001b[49m\u001b[43m)\u001b[49m\n\u001b[1;32m    391\u001b[0m \u001b[38;5;28;01mif\u001b[39;00m \u001b[38;5;28misinstance\u001b[39m(examples, (\u001b[38;5;28mlist\u001b[39m, \u001b[38;5;28mtuple\u001b[39m)) \u001b[38;5;129;01mand\u001b[39;00m \u001b[38;5;28mlen\u001b[39m(examples) \u001b[38;5;241m==\u001b[39m \u001b[38;5;241m1\u001b[39m:\n\u001b[1;32m    392\u001b[0m     \u001b[38;5;28;01mreturn\u001b[39;00m \u001b[38;5;28msuper\u001b[39m()\u001b[38;5;241m.\u001b[39m\u001b[38;5;21m__call__\u001b[39m(examples[\u001b[38;5;241m0\u001b[39m], \u001b[38;5;241m*\u001b[39m\u001b[38;5;241m*\u001b[39mkwargs)\n",
      "File \u001b[0;32m/opt/anaconda3/lib/python3.8/site-packages/transformers/pipelines/question_answering.py:201\u001b[0m, in \u001b[0;36mQuestionAnsweringArgumentHandler.__call__\u001b[0;34m(self, *args, **kwargs)\u001b[0m\n\u001b[1;32m    199\u001b[0m         \u001b[38;5;28;01mraise\u001b[39;00m \u001b[38;5;167;01mValueError\u001b[39;00m(\u001b[38;5;124m\"\u001b[39m\u001b[38;5;124mArguments can\u001b[39m\u001b[38;5;124m'\u001b[39m\u001b[38;5;124mt be understood\u001b[39m\u001b[38;5;124m\"\u001b[39m)\n\u001b[1;32m    200\u001b[0m \u001b[38;5;28;01melse\u001b[39;00m:\n\u001b[0;32m--> 201\u001b[0m     \u001b[38;5;28;01mraise\u001b[39;00m \u001b[38;5;167;01mValueError\u001b[39;00m(\u001b[38;5;124mf\u001b[39m\u001b[38;5;124m\"\u001b[39m\u001b[38;5;124mUnknown arguments \u001b[39m\u001b[38;5;132;01m{\u001b[39;00mkwargs\u001b[38;5;132;01m}\u001b[39;00m\u001b[38;5;124m\"\u001b[39m)\n\u001b[1;32m    203\u001b[0m \u001b[38;5;66;03m# When user is sending a generator we need to trust it's a valid example\u001b[39;00m\n\u001b[1;32m    204\u001b[0m generator_types \u001b[38;5;241m=\u001b[39m (types\u001b[38;5;241m.\u001b[39mGeneratorType, Dataset) \u001b[38;5;28;01mif\u001b[39;00m Dataset \u001b[38;5;129;01mis\u001b[39;00m \u001b[38;5;129;01mnot\u001b[39;00m \u001b[38;5;28;01mNone\u001b[39;00m \u001b[38;5;28;01melse\u001b[39;00m (types\u001b[38;5;241m.\u001b[39mGeneratorType,)\n",
      "\u001b[0;31mValueError\u001b[0m: Unknown arguments {'model_inputs': {'input_ids': tensor([[  101, 18732, 20336,  9565, 13821,  2036, 18581,  1658, 18135,  1203,\n         23994,  3309,  1403,  1306,  1107,  1103, 19165,  1104, 20394, 26003,\n          9847,  4695, 20012,  2249, 18122, 10615,   117, 17881,  1477, 24654,\n          2101,  9637, 17444, 15517, 10069,   149, 12420, 20427,  8900,  3048,\n         11410,   123,  1658, 11787,  3848,  8989,  1658,  3031, 11470,  4183,\n          4124,  5466, 26123, 11553,  2101,  1324, 15556,  3031, 11470,  8787,\n          4124,  1823, 25702,  9291,  1116,  2101,  1324, 15556, 15391,  1776,\n          1616,   117, 17023,   111,  6342, 13809, 13199,  5838,  9126,  4342,\n         22534,   204, 10288,  1107, 10351,   132,   170,  6898,   118,  1149,\n          1121,  1103,  5364, 18601,   113, 21362,  2271,   114,   204,   109,\n           127,   119,   123,  2107,  6478,  1121, 21362,  2271,  1105, 18235,\n          1116,  2346,  3031,  1186,   204, 21902, 10522,  2042,  1104, 14056,\n          2036,  1353, 10799,  1115,  1107, 23034,   157,  8271,   120,   157,\n          8271,  2346,   115,  1707,   117,   170,  2281,  3445,  1104,   140,\n          2428,  2137,   204,  1203,  2747, 19560,  4010,   113, 15411,  1658,\n         25928,  2217,   114,   117,  1884,  4934,  2002,   113,  1664,   118,\n         27410,   114,  3469,   204,   157,  8271,  2346, 25128,  8519,  1200,\n           117,  1769,  1884, 13252,  1204,  2233,  1884, 18337,  3798,   157,\n          8271,  2346,   113,   135,   126, 28349,  1306,   114,  1114,  2869,\n          3653, 13950,   124,  1708,  1818,  7317,  1183,  2162, 12393, 18555,\n         11410,  1708, 15297,   138,   204, 24930, 18380,  1158,  1126,  8362,\n          7877,  2913,  3445,  1104, 13306, 16042,  3653,   113,   140,  2428,\n          2137,   114,  1114,  1887,  3254,  1766, 14598,  4233,   204, 18959,\n          5208, 16764,  1107,   140, 23935,  1105, 17355, 12725,  4863,   204,\n         15969,  2137,   118,  2407,  1107, 17881,  1527,   204, 11661, 14274,\n         12256,  8547,  2510,  3850,  4765,   117, 22661,  1105,  1329,   204,\n         24689,  1181, 14274,  7097,  1121, 21362,  2271,   204,  1249, 27948,\n          2888,  1113, 11169,  2538,   204, 20089,  4253,   170,   109,  1476,\n          1550,  2768,   138, 13080,   204, 15969,  2137,   118, 12619,   117,\n         22661,  1718,  1105,   140, 10044,   117, 12278,   122,  2025,   113,\n           116,  7642, 24275,  2528, 24662, 18959,  2101,   114,   204, 12798,\n          2509,  3850,  4765,   204, 16752,  6105,  4175,  1459,  1264,  1104,\n          2380,  8724,   115,   157,  8271,   113,   152,   114,   134, 18491,\n         11006, 18873, 19577,   151,   118,   152,  8745,  2007,  9272, 21564,\n         11780,   142,  3190, 10147, 12412, 26140,   153, 11410, 21678, 11607,\n          2036,   125,  5301,  1942,  1775, 10424,  1475,  6844, 12556,  1513,\n         21025,  5301,  1942,  1775, 10424,  1477,  6844, 12556,  1513, 21025,\n          5301,  1942,  1775, 10424,  1495,  6844, 12556,  1513, 21025,   135,\n          1476,  4252,  1643, 24171]]), 'attention_mask': tensor([[1, 1, 1, 1, 1, 1, 1, 1, 1, 1, 1, 1, 1, 1, 1, 1, 1, 1, 1, 1, 1, 1, 1, 1,\n         1, 1, 1, 1, 1, 1, 1, 1, 1, 1, 1, 1, 1, 1, 1, 1, 1, 1, 1, 1, 1, 1, 1, 1,\n         1, 1, 1, 1, 1, 1, 1, 1, 1, 1, 1, 1, 1, 1, 1, 1, 1, 1, 1, 1, 1, 1, 1, 1,\n         1, 1, 1, 1, 1, 1, 1, 1, 1, 1, 1, 1, 1, 1, 1, 1, 1, 1, 1, 1, 1, 1, 1, 1,\n         1, 1, 1, 1, 1, 1, 1, 1, 1, 1, 1, 1, 1, 1, 1, 1, 1, 1, 1, 1, 1, 1, 1, 1,\n         1, 1, 1, 1, 1, 1, 1, 1, 1, 1, 1, 1, 1, 1, 1, 1, 1, 1, 1, 1, 1, 1, 1, 1,\n         1, 1, 1, 1, 1, 1, 1, 1, 1, 1, 1, 1, 1, 1, 1, 1, 1, 1, 1, 1, 1, 1, 1, 1,\n         1, 1, 1, 1, 1, 1, 1, 1, 1, 1, 1, 1, 1, 1, 1, 1, 1, 1, 1, 1, 1, 1, 1, 1,\n         1, 1, 1, 1, 1, 1, 1, 1, 1, 1, 1, 1, 1, 1, 1, 1, 1, 1, 1, 1, 1, 1, 1, 1,\n         1, 1, 1, 1, 1, 1, 1, 1, 1, 1, 1, 1, 1, 1, 1, 1, 1, 1, 1, 1, 1, 1, 1, 1,\n         1, 1, 1, 1, 1, 1, 1, 1, 1, 1, 1, 1, 1, 1, 1, 1, 1, 1, 1, 1, 1, 1, 1, 1,\n         1, 1, 1, 1, 1, 1, 1, 1, 1, 1, 1, 1, 1, 1, 1, 1, 1, 1, 1, 1, 1, 1, 1, 1,\n         1, 1, 1, 1, 1, 1, 1, 1, 1, 1, 1, 1, 1, 1, 1, 1, 1, 1, 1, 1, 1, 1, 1, 1,\n         1, 1, 1, 1, 1, 1, 1, 1, 1, 1, 1, 1, 1, 1, 1, 1, 1, 1, 1, 1, 1, 1, 1, 1,\n         1, 1, 1, 1, 1, 1, 1, 1, 1, 1, 1, 1, 1, 1, 1, 1, 1, 1, 1, 1, 1, 1, 1, 1,\n         1, 1, 1, 1, 1, 1, 1, 1, 1, 1, 1, 1, 1, 1, 1, 1, 1, 1, 1, 1, 1, 1, 1, 1]])}, 'question': 'What are the 3 main disease-related keywords in the text?'}"
     ]
    }
   ],
   "source": [
    "import os\n",
    "import pandas as pd\n",
    "from transformers import pipeline\n",
    "from PyPDF2 import PdfReader\n",
    "\n",
    "# Function to extract text from a PDF file\n",
    "def extract_text_from_pdf(pdf_path):\n",
    "    with open(pdf_path, 'rb') as file:\n",
    "        reader = PdfReader(file)\n",
    "        text = \"\"\n",
    "        for page in reader.pages:\n",
    "            text += page.extract_text()\n",
    "    return text\n",
    "\n",
    "# Function to find the top 3 disease-related keywords in the text\n",
    "def find_top_3_diseases(text, max_tokens=384):\n",
    "    question = \"What are the 3 main disease-related keywords in the text?\"\n",
    "    tokenized_text = nlp.tokenizer(text, return_tensors=\"pt\", truncation=True, padding=True)\n",
    "    num_chunks = (tokenized_text.input_ids.shape[1] + max_tokens - 1) // max_tokens\n",
    "\n",
    "    for chunk_idx in range(num_chunks):\n",
    "        start = chunk_idx * max_tokens\n",
    "        end = start + max_tokens\n",
    "        input_chunk = tokenized_text.input_ids[:, start:end]\n",
    "        attention_mask_chunk = tokenized_text.attention_mask[:, start:end]\n",
    "        answer = nlp(model_inputs={\"input_ids\": input_chunk, \"attention_mask\": attention_mask_chunk}, question=question)\n",
    "        if answer[\"score\"] > 0.5:\n",
    "            return answer[\"answer\"]\n",
    "    return \"Keywords not found\"\n",
    "\n",
    "# Load the question-answering model\n",
    "nlp = pipeline(\"question-answering\")\n",
    "\n",
    "# Define the folder containing PDF files\n",
    "pdf_folder = \"/Users/amin/Desktop/33/test\"\n",
    "\n",
    "# Read PDF files and find the top 3 disease-related keywords\n",
    "data = []\n",
    "for file in os.listdir(pdf_folder):\n",
    "    if file.endswith(\".pdf\"):\n",
    "        pdf_path = os.path.join(pdf_folder, file)\n",
    "        text = extract_text_from_pdf(pdf_path)\n",
    "        top_3_diseases = find_top_3_diseases(text)\n",
    "        data.append({\"File\": file[:-4], \"Issue_KW\": top_3_diseases})\n",
    "\n",
    "# Create a DataFrame and save it as a CSV file\n",
    "df = pd.DataFrame(data)\n",
    "df.to_csv(\"Issue_KW.csv\", index=False)\n"
   ]
  },
  {
   "cell_type": "code",
   "execution_count": null,
   "id": "d2fa1874",
   "metadata": {},
   "outputs": [],
   "source": []
  }
 ],
 "metadata": {
  "kernelspec": {
   "display_name": "Python 3",
   "language": "python",
   "name": "python3"
  },
  "language_info": {
   "codemirror_mode": {
    "name": "ipython",
    "version": 3
   },
   "file_extension": ".py",
   "mimetype": "text/x-python",
   "name": "python",
   "nbconvert_exporter": "python",
   "pygments_lexer": "ipython3",
   "version": "3.8.5"
  }
 },
 "nbformat": 4,
 "nbformat_minor": 5
}
