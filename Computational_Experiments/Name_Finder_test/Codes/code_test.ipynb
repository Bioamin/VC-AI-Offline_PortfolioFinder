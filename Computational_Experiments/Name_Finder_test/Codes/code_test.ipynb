{
 "cells": [
  {
   "cell_type": "code",
   "execution_count": 68,
   "metadata": {},
   "outputs": [],
   "source": [
    "import os\n",
    "import re\n",
    "from io import StringIO\n",
    "from pdfminer.high_level import extract_text\n",
    "from transformers import pipeline\n",
    "import pandas as pd"
   ]
  },
  {
   "cell_type": "code",
   "execution_count": 69,
   "metadata": {},
   "outputs": [],
   "source": [
    "def read_pdf_files(folder_path):\n",
    "    pdf_files = [f for f in os.listdir(folder_path) if f.endswith(\".pdf\")]\n",
    "    pdf_texts = []\n",
    "\n",
    "    for pdf_file in pdf_files:\n",
    "        text = extract_text(os.path.join(folder_path, pdf_file))\n",
    "        pdf_texts.append((pdf_file[:-4], text))\n",
    "    return pdf_texts"
   ]
  },
  {
   "cell_type": "code",
   "execution_count": 63,
   "metadata": {},
   "outputs": [],
   "source": [
    "def clean_text(text):\n",
    "    # Remove header, footer, and page number\n",
    "    text = re.sub(r'\\n+|\\r+|\\t+', ' ', text)\n",
    "    text = re.sub(r'Page \\d+', '', text)\n",
    "    return text"
   ]
  },
  {
   "cell_type": "code",
   "execution_count": 64,
   "metadata": {},
   "outputs": [],
   "source": [
    "def find_fin_assoc(text):\n",
    "    associations = []\n",
    "    for company, website in [\n",
    "        ('Goldman Sachs', 'www.goldmansachs.com'),\n",
    "                             ('JPMorgan Chase', 'www.jpmorganchase.com'),\n",
    "                             ('Morgan Stanley', 'www.morganstanley.com')]:\n",
    "        if company in text:\n",
    "            associations.append(company)\n",
    "            text = text.replace(company, '').replace(website, '')\n",
    "    return ', '.join(associations), text"
   ]
  },
  {
   "cell_type": "code",
   "execution_count": 65,
   "metadata": {},
   "outputs": [],
   "source": [
    "def get_company_name(text):\n",
    "    nlp_qa = pipeline(\"question-answering\")\n",
    "    question = \"Which company is the company name?\"\n",
    "    answer = nlp_qa(question=question, context=text)\n",
    "    return answer['answer']"
   ]
  },
  {
   "cell_type": "code",
   "execution_count": 66,
   "metadata": {},
   "outputs": [],
   "source": [
    "def create_dataframe(pdf_texts):\n",
    "    data = []\n",
    "\n",
    "    for file_name, text in pdf_texts:\n",
    "        text = clean_text(text)\n",
    "        fin_assoc, text = find_fin_assoc(text)\n",
    "        company_name = get_company_name(text)\n",
    "\n",
    "        data.append({\n",
    "            \"File_name\": file_name,\n",
    "            \"Company_Name\": company_name,\n",
    "            \"Issue\": 0,\n",
    "            \"Method\": 0,\n",
    "            \"Website\": 0,\n",
    "            \"FinAssoc\": fin_assoc,\n",
    "            \"OtherCompAssoc\": 0,\n",
    "            \"Location\": 0,\n",
    "            \"number of words\": 0,\n",
    "            \"computational\": 0,\n",
    "            \"age\": 0,\n",
    "            \"Phase\": 0,\n",
    "            \"Bio-Keywords\": 0,\n",
    "            \"Human\": 0,\n",
    "            \"Treatment\": 0,\n",
    "            \"Diagnosis\": 0\n",
    "        })\n",
    "\n",
    "    df = pd.DataFrame(data)\n",
    "    return df"
   ]
  },
  {
   "cell_type": "code",
   "execution_count": 67,
   "metadata": {},
   "outputs": [
    {
     "name": "stderr",
     "output_type": "stream",
     "text": [
      "No model was supplied, defaulted to distilbert-base-cased-distilled-squad and revision 626af31 (https://huggingface.co/distilbert-base-cased-distilled-squad).\n",
      "Using a pipeline without specifying a model name and revision in production is not recommended.\n",
      "No model was supplied, defaulted to distilbert-base-cased-distilled-squad and revision 626af31 (https://huggingface.co/distilbert-base-cased-distilled-squad).\n",
      "Using a pipeline without specifying a model name and revision in production is not recommended.\n",
      "No model was supplied, defaulted to distilbert-base-cased-distilled-squad and revision 626af31 (https://huggingface.co/distilbert-base-cased-distilled-squad).\n",
      "Using a pipeline without specifying a model name and revision in production is not recommended.\n",
      "No model was supplied, defaulted to distilbert-base-cased-distilled-squad and revision 626af31 (https://huggingface.co/distilbert-base-cased-distilled-squad).\n",
      "Using a pipeline without specifying a model name and revision in production is not recommended.\n",
      "No model was supplied, defaulted to distilbert-base-cased-distilled-squad and revision 626af31 (https://huggingface.co/distilbert-base-cased-distilled-squad).\n",
      "Using a pipeline without specifying a model name and revision in production is not recommended.\n",
      "No model was supplied, defaulted to distilbert-base-cased-distilled-squad and revision 626af31 (https://huggingface.co/distilbert-base-cased-distilled-squad).\n",
      "Using a pipeline without specifying a model name and revision in production is not recommended.\n",
      "No model was supplied, defaulted to distilbert-base-cased-distilled-squad and revision 626af31 (https://huggingface.co/distilbert-base-cased-distilled-squad).\n",
      "Using a pipeline without specifying a model name and revision in production is not recommended.\n",
      "No model was supplied, defaulted to distilbert-base-cased-distilled-squad and revision 626af31 (https://huggingface.co/distilbert-base-cased-distilled-squad).\n",
      "Using a pipeline without specifying a model name and revision in production is not recommended.\n",
      "No model was supplied, defaulted to distilbert-base-cased-distilled-squad and revision 626af31 (https://huggingface.co/distilbert-base-cased-distilled-squad).\n",
      "Using a pipeline without specifying a model name and revision in production is not recommended.\n",
      "No model was supplied, defaulted to distilbert-base-cased-distilled-squad and revision 626af31 (https://huggingface.co/distilbert-base-cased-distilled-squad).\n",
      "Using a pipeline without specifying a model name and revision in production is not recommended.\n",
      "No model was supplied, defaulted to distilbert-base-cased-distilled-squad and revision 626af31 (https://huggingface.co/distilbert-base-cased-distilled-squad).\n",
      "Using a pipeline without specifying a model name and revision in production is not recommended.\n"
     ]
    },
    {
     "name": "stdout",
     "output_type": "stream",
     "text": [
      "                                    File_name              Company_Name  \\\n",
      "0                         PS_TCRR_NOTE_1.5.23    TCR2 Therapeutics, Inc   \n",
      "1              Grace Sciece Platform (9.2.20)             Grace Science   \n",
      "2               AcuamarkDx Series A_Corp Deck                ResearchDx   \n",
      "3                      JPM_SRZN_NOTE_11.28.22          Company-Specific   \n",
      "4                           G_ACET_IOC_4.8.21     GUGGENHEIM SECURITIES   \n",
      "5                          B_RXRX_IOC_9.21.21       Jonathan Livescault   \n",
      "6        Dianomi Non-Confidential Slides - v3      Dianomi Therapeutics   \n",
      "7                          WB_VOR_IOC_1.25.22       Net Interest Income   \n",
      "8                        LT_AVXL_NOTE_6.22.21           GROWTH ANALYSIS   \n",
      "9   Graviton Corporate Presentation July 2022  Graviton Holding Company   \n",
      "10                        CT one-pager Dec 22     circadiantherapeutics   \n",
      "\n",
      "    Issue  Method  Website        FinAssoc  OtherCompAssoc  Location  \\\n",
      "0       0       0        0                               0         0   \n",
      "1       0       0        0                               0         0   \n",
      "2       0       0        0                               0         0   \n",
      "3       0       0        0  JPMorgan Chase               0         0   \n",
      "4       0       0        0                               0         0   \n",
      "5       0       0        0   Goldman Sachs               0         0   \n",
      "6       0       0        0                               0         0   \n",
      "7       0       0        0                               0         0   \n",
      "8       0       0        0                               0         0   \n",
      "9       0       0        0                               0         0   \n",
      "10      0       0        0                               0         0   \n",
      "\n",
      "    number of words  computational  age  Phase  Bio-Keywords  Human  \\\n",
      "0                 0              0    0      0             0      0   \n",
      "1                 0              0    0      0             0      0   \n",
      "2                 0              0    0      0             0      0   \n",
      "3                 0              0    0      0             0      0   \n",
      "4                 0              0    0      0             0      0   \n",
      "5                 0              0    0      0             0      0   \n",
      "6                 0              0    0      0             0      0   \n",
      "7                 0              0    0      0             0      0   \n",
      "8                 0              0    0      0             0      0   \n",
      "9                 0              0    0      0             0      0   \n",
      "10                0              0    0      0             0      0   \n",
      "\n",
      "    Treatment  Diagnosis  \n",
      "0           0          0  \n",
      "1           0          0  \n",
      "2           0          0  \n",
      "3           0          0  \n",
      "4           0          0  \n",
      "5           0          0  \n",
      "6           0          0  \n",
      "7           0          0  \n",
      "8           0          0  \n",
      "9           0          0  \n",
      "10          0          0  \n"
     ]
    }
   ],
   "source": [
    "\n",
    "def main():\n",
    "    folder_path = \"/Users/amin/Desktop/33/code_test\"\n",
    "    pdf_texts = read_pdf_files(folder_path)\n",
    "    df = create_dataframe(pdf_texts)\n",
    "    print(df)\n",
    "\n",
    "if __name__ == \"__main__\":\n",
    "    main()\n"
   ]
  },
  {
   "cell_type": "code",
   "execution_count": null,
   "metadata": {},
   "outputs": [],
   "source": []
  },
  {
   "cell_type": "code",
   "execution_count": null,
   "metadata": {},
   "outputs": [],
   "source": []
  }
 ],
 "metadata": {
  "kernelspec": {
   "display_name": "Python 3",
   "language": "python",
   "name": "python3"
  },
  "language_info": {
   "codemirror_mode": {
    "name": "ipython",
    "version": 3
   },
   "file_extension": ".py",
   "mimetype": "text/x-python",
   "name": "python",
   "nbconvert_exporter": "python",
   "pygments_lexer": "ipython3",
   "version": "3.8.5"
  }
 },
 "nbformat": 4,
 "nbformat_minor": 4
}
