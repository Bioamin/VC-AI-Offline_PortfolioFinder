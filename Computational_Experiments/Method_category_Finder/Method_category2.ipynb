{
 "cells": [
  {
   "cell_type": "code",
   "execution_count": null,
   "metadata": {},
   "outputs": [
    {
     "name": "stderr",
     "output_type": "stream",
     "text": [
      "No model was supplied, defaulted to distilbert-base-cased-distilled-squad and revision 626af31 (https://huggingface.co/distilbert-base-cased-distilled-squad).\n",
      "Using a pipeline without specifying a model name and revision in production is not recommended.\n"
     ]
    },
    {
     "name": "stdout",
     "output_type": "stream",
     "text": [
      "File: Zehna Corporate Deck SymBiosis.pdf\n",
      "Main Method Area: Genomics or Gene Editing\n",
      "\n"
     ]
    },
    {
     "name": "stderr",
     "output_type": "stream",
     "text": [
      "Xref table not zero-indexed. ID numbers for objects will be corrected.\n"
     ]
    },
    {
     "name": "stdout",
     "output_type": "stream",
     "text": [
      "File: PS_TCRR_NOTE_1.5.23.pdf\n",
      "Main Method Area: Genomics or Gene Editing\n",
      "\n",
      "File: Grace Sciece Platform (9.2.20).pdf\n",
      "Main Method Area: Microbiome\n",
      "\n"
     ]
    },
    {
     "name": "stderr",
     "output_type": "stream",
     "text": [
      "Xref table not zero-indexed. ID numbers for objects will be corrected.\n"
     ]
    },
    {
     "name": "stdout",
     "output_type": "stream",
     "text": [
      "File: AcuamarkDx Series A_Corp Deck.pdf\n",
      "Main Method Area: Genomics or Gene Editing\n",
      "\n",
      "File: coding.bio_deck.pdf\n",
      "Main Method Area: Immunotherapy or Cell Engineering\n",
      "\n",
      "File: Centurion_BioPharma-Non-Confidential_2021_2.pdf\n",
      "Main Method Area: Microbiome\n",
      "\n",
      "File: JPM_SRZN_NOTE_11.28.22.pdf\n",
      "Main Method Area: Microbiome\n",
      "\n",
      "File: G_ACET_IOC_4.8.21.pdf\n",
      "Main Method Area: Immunotherapy or Cell Engineering\n",
      "\n"
     ]
    }
   ],
   "source": [
    "import os\n",
    "import PyPDF2\n",
    "from transformers import pipeline\n",
    "\n",
    "# Initialize the question-answering pipeline\n",
    "qa_pipeline = pipeline(\"question-answering\")\n",
    "\n",
    "# Questions related to method areas\n",
    "questions = [\n",
    "    \"What is the company's involvement in drug discovery?\",\n",
    "    \"What is the company's involvement in genomics or gene editing?\",\n",
    "    \"What is the company's involvement in immunotherapy or cell engineering?\",\n",
    "    \"What is the company's involvement in microbiome research?\",\n",
    "    \"What is the company's involvement in computational biology and AI?\",\n",
    "]\n",
    "\n",
    "def get_text_from_pdf(file_path):\n",
    "    with open(file_path, \"rb\") as file:\n",
    "        reader = PyPDF2.PdfFileReader(file)\n",
    "        text = \"\"\n",
    "        for page_num in range(reader.numPages):\n",
    "            text += reader.getPage(page_num).extractText()\n",
    "    return text\n",
    "\n",
    "def main_method_area(text):\n",
    "    results = []\n",
    "    for question in questions:\n",
    "        result = qa_pipeline(question=question, context=text)\n",
    "        result[\"question\"] = question  # Add the question to the result dictionary\n",
    "        results.append(result)\n",
    "\n",
    "    # Find the question with the highest score\n",
    "    highest_score_result = max(results, key=lambda x: x[\"score\"])\n",
    "\n",
    "    # Map the question to the corresponding method area\n",
    "    method_area = {\n",
    "        questions[0]: \"Drug Discovery\",\n",
    "        questions[1]: \"Genomics or Gene Editing\",\n",
    "        questions[2]: \"Immunotherapy or Cell Engineering\",\n",
    "        questions[3]: \"Microbiome\",\n",
    "        questions[4]: \"Computational Biology and AI\",\n",
    "    }.get(highest_score_result[\"question\"], \"Other\")\n",
    "\n",
    "    return method_area\n",
    "\n",
    "pdf_folder = \"/Users/amin/Desktop/33/test\"\n",
    "\n",
    "for file_name in os.listdir(pdf_folder):\n",
    "    if file_name.endswith(\".pdf\"):\n",
    "        file_path = os.path.join(pdf_folder, file_name)\n",
    "        text = get_text_from_pdf(file_path)\n",
    "        method_area = main_method_area(text)\n",
    "        print(f\"File: {file_name}\\nMain Method Area: {method_area}\\n\")\n"
   ]
  },
  {
   "cell_type": "code",
   "execution_count": null,
   "metadata": {},
   "outputs": [],
   "source": []
  }
 ],
 "metadata": {
  "kernelspec": {
   "display_name": "Python 3",
   "language": "python",
   "name": "python3"
  },
  "language_info": {
   "codemirror_mode": {
    "name": "ipython",
    "version": 3
   },
   "file_extension": ".py",
   "mimetype": "text/x-python",
   "name": "python",
   "nbconvert_exporter": "python",
   "pygments_lexer": "ipython3",
   "version": "3.8.5"
  }
 },
 "nbformat": 4,
 "nbformat_minor": 4
}
