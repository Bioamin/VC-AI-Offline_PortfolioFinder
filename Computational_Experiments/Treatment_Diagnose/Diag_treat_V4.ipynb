{
 "cells": [
  {
   "cell_type": "code",
   "execution_count": 1,
   "id": "5a8be719",
   "metadata": {},
   "outputs": [
    {
     "data": {
      "application/vnd.jupyter.widget-view+json": {
       "model_id": "4204808c3b46461d809cdce18b3ea4e4",
       "version_major": 2,
       "version_minor": 0
      },
      "text/plain": [
       "Downloading (…)lve/main/config.json:   0%|          | 0.00/477 [00:00<?, ?B/s]"
      ]
     },
     "metadata": {},
     "output_type": "display_data"
    },
    {
     "data": {
      "application/vnd.jupyter.widget-view+json": {
       "model_id": "f0711a1e4c94421890b3e8e52c16a670",
       "version_major": 2,
       "version_minor": 0
      },
      "text/plain": [
       "Downloading (…)solve/main/vocab.txt:   0%|          | 0.00/213k [00:00<?, ?B/s]"
      ]
     },
     "metadata": {},
     "output_type": "display_data"
    },
    {
     "data": {
      "application/vnd.jupyter.widget-view+json": {
       "model_id": "5dc6b71fdff34076a68ed6a446f5c4fa",
       "version_major": 2,
       "version_minor": 0
      },
      "text/plain": [
       "Downloading pytorch_model.bin:   0%|          | 0.00/433M [00:00<?, ?B/s]"
      ]
     },
     "metadata": {},
     "output_type": "display_data"
    },
    {
     "name": "stdout",
     "output_type": "stream",
     "text": [
      "                                                 File Diag_Treat\n",
      "0                      Zehna Corporate Deck SymBiosis  Treatment\n",
      "1                                 PS_TCRR_NOTE_1.5.23  Treatment\n",
      "2                      Grace Sciece Platform (9.2.20)  Treatment\n",
      "3                       AcuamarkDx Series A_Corp Deck  Treatment\n",
      "4                                     coding.bio_deck  Treatment\n",
      "5         Centurion_BioPharma-Non-Confidential_2021_2  Treatment\n",
      "6                              JPM_SRZN_NOTE_11.28.22  Treatment\n",
      "7                                   G_ACET_IOC_4.8.21  Treatment\n",
      "8                                C_ARQT_NOTE_11.15.22  Treatment\n",
      "9                                  B_RXRX_IOC_9.21.21  Treatment\n",
      "10               Dianomi Non-Confidential Slides - v3  Treatment\n",
      "11                           KBC_MAAT.FR_IOC_12.14.21  Treatment\n",
      "12                               Engrail Therapeutics  Treatment\n",
      "13                                 WB_VOR_IOC_1.25.22  Treatment\n",
      "14                                 E_FNCH_IOC_8.10.21  Treatment\n",
      "15                                CG_GRNA_IOC_12.8.22  Treatment\n",
      "16                               LT_AVXL_NOTE_6.22.21  Treatment\n",
      "17                                LT_PHGE_IOC_4.15.21  Treatment\n",
      "18          Graviton Corporate Presentation July 2022  Treatment\n",
      "19                     Bectas Tx Non-Con - Aug.1.2022  Treatment\n",
      "20                    20 080822_PRTA_Research Summary  Treatment\n",
      "21                                CT one-pager Dec 22  Treatment\n",
      "22     221003_PRE_Numab Non-Confidential Presentation  Treatment\n",
      "23        2022-3-18 Apeximmune non-confidential Baird  Treatment\n",
      "24                           Alto Overview_April 2022  Treatment\n",
      "25                        [NON-NDA] Integral Overview  Treatment\n",
      "26                               JMP_NXTC_IOC_5.26.20  Treatment\n",
      "27                   Flare Non-Con Deck November 2022  Treatment\n",
      "28  AscelpiX Corporate Presentation NON CONFIDENTI...  Treatment\n"
     ]
    }
   ],
   "source": [
    "import os\n",
    "import pandas as pd\n",
    "from pdfminer.high_level import extract_text\n",
    "from transformers import pipeline, AutoTokenizer, AutoModelForQuestionAnswering\n",
    "\n",
    "# Function to extract text from PDF file\n",
    "def extract_text_from_pdf(file_path):\n",
    "    return extract_text(file_path)\n",
    "\n",
    "# Initialize the tokenizer and model for question-answering\n",
    "model_name = 'dmis-lab/biobert-base-cased-v1.1-squad'\n",
    "tokenizer = AutoTokenizer.from_pretrained(model_name)\n",
    "model = AutoModelForQuestionAnswering.from_pretrained(model_name)\n",
    "\n",
    "# Initialize the question-answering pipeline\n",
    "question_answering = pipeline('question-answering', model=model, tokenizer=tokenizer)\n",
    "\n",
    "# Set the directory containing the PDF files\n",
    "pdf_directory = '/Users/amin/Desktop/33/test'\n",
    "\n",
    "# Initialize an empty dataframe\n",
    "df = pd.DataFrame(columns=['File', 'Diag_Treat'])\n",
    "\n",
    "# Iterate over the files in the directory\n",
    "for file_name in os.listdir(pdf_directory):\n",
    "    if file_name.endswith('.pdf'):\n",
    "        # Extract text from the PDF file\n",
    "        file_path = os.path.join(pdf_directory, file_name)\n",
    "        pdf_text = extract_text_from_pdf(file_path)\n",
    "\n",
    "        # Ask the question-answering model\n",
    "        question = 'Is the primary focus of the bio-related company diagnosing diseases or treating diseases?'\n",
    "        answer = question_answering(question=question, context=pdf_text)['answer']\n",
    "\n",
    "        # Standardize the answer to either 'Diagnose' or 'Treatment'\n",
    "        diag_treat = 'Diagnose' if 'diagnos' in answer.lower() else 'Treatment'\n",
    "\n",
    "        # Append the result to the dataframe\n",
    "        df = df.append({'File': file_name[:-4], 'Diag_Treat': diag_treat}, ignore_index=True)\n",
    "\n",
    "# Display the dataframe\n",
    "print(df)\n"
   ]
  },
  {
   "cell_type": "code",
   "execution_count": null,
   "id": "ec959d3c",
   "metadata": {},
   "outputs": [],
   "source": []
  }
 ],
 "metadata": {
  "kernelspec": {
   "display_name": "Python 3",
   "language": "python",
   "name": "python3"
  },
  "language_info": {
   "codemirror_mode": {
    "name": "ipython",
    "version": 3
   },
   "file_extension": ".py",
   "mimetype": "text/x-python",
   "name": "python",
   "nbconvert_exporter": "python",
   "pygments_lexer": "ipython3",
   "version": "3.8.5"
  }
 },
 "nbformat": 4,
 "nbformat_minor": 5
}
