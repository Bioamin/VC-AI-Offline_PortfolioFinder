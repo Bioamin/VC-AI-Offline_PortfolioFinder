{
 "cells": [
  {
   "cell_type": "code",
   "execution_count": null,
   "id": "078ea62a",
   "metadata": {},
   "outputs": [
    {
     "name": "stderr",
     "output_type": "stream",
     "text": [
      "Xref table not zero-indexed. ID numbers for objects will be corrected.\n",
      "Xref table not zero-indexed. ID numbers for objects will be corrected.\n"
     ]
    }
   ],
   "source": [
    "import os\n",
    "import PyPDF2\n",
    "from transformers import pipeline\n",
    "import pandas as pd\n",
    "\n",
    "# Function to read PDF files and convert them to text\n",
    "def pdf_to_text(file_path):\n",
    "    with open(file_path, 'rb') as file:\n",
    "        reader = PyPDF2.PdfFileReader(file)\n",
    "        text = ''\n",
    "        for page_num in range(reader.numPages):\n",
    "            text += reader.getPage(page_num).extractText()\n",
    "    return text\n",
    "\n",
    "# Function to split text into chunks of 300 tokens\n",
    "def chunk_text(text, chunk_size=300):\n",
    "    words = text.split()\n",
    "    chunks = [' '.join(words[i:i + chunk_size]) for i in range(0, len(words), chunk_size)]\n",
    "    return chunks\n",
    "\n",
    "# Function to classify each chunk as Diagnosis or Treatment\n",
    "def classify_chunks(chunks, nlp, diagnosis_labels, treatment_labels):\n",
    "    diagnosis_score = 0\n",
    "    treatment_score = 0\n",
    "\n",
    "    for chunk in chunks:\n",
    "        candidate_labels = diagnosis_labels + treatment_labels\n",
    "        response = nlp(chunk, candidate_labels=candidate_labels)\n",
    "        labels = response['labels']\n",
    "        scores = response['scores']\n",
    "\n",
    "        for label, score in zip(labels, scores):\n",
    "            if label in diagnosis_labels:\n",
    "                diagnosis_score += score\n",
    "            elif label in treatment_labels:\n",
    "                treatment_score += score\n",
    "\n",
    "    return 'Diagnosis' if diagnosis_score > treatment_score else 'Treatment'\n",
    "\n",
    "# Initialize the zero-shot classification model with the specified model name and revision\n",
    "nlp = pipeline('zero-shot-classification', model='facebook/bart-large-mnli', revision='c626438')\n",
    "\n",
    "# Initialize the results DataFrame\n",
    "results = pd.DataFrame(columns=['File', 'Diag_Treat'])\n",
    "\n",
    "# Set the folder path containing the PDF files\n",
    "folder_path = '/Users/amin/Desktop/33/test'\n",
    "\n",
    "# Define the related words for each category\n",
    "diagnosis_labels = [\n",
    "    'medical diagnosis', 'condition identification', 'illness detection', 'disorder diagnosis',\n",
    "    'health problem identification', 'pathology detection'\n",
    "]\n",
    "\n",
    "treatment_labels = [\n",
    "    'medical treatment', 'therapeutic intervention', 'medication', 'therapy', 'care plan',\n",
    "    'healing regimen', 'cure', 'rehabilitation', 'management'\n",
    "]\n",
    "\n",
    "# Loop through each PDF file in the folder\n",
    "for file in os.listdir(folder_path):\n",
    "    if file.endswith('.pdf'):\n",
    "        file_path = os.path.join(folder_path, file)\n",
    "        \n",
    "        # Convert the PDF to text and split it into chunks\n",
    "        text = pdf_to_text(file_path)\n",
    "        chunks = chunk_text(text)\n",
    "        \n",
    "        # Classify the chunks and add the result to the DataFrame\n",
    "        classification = classify_chunks(chunks, nlp, diagnosis_labels, treatment_labels)\n",
    "        results = results.append({'File': file[:-4], 'Diag_Treat': classification}, ignore_index=True)\n",
    "\n",
    "# Save the results to a CSV file\n",
    "results.to_csv('classification_results.csv', index=False)\n"
   ]
  },
  {
   "cell_type": "code",
   "execution_count": null,
   "id": "84f1aba3",
   "metadata": {},
   "outputs": [],
   "source": []
  }
 ],
 "metadata": {
  "kernelspec": {
   "display_name": "Python 3",
   "language": "python",
   "name": "python3"
  },
  "language_info": {
   "codemirror_mode": {
    "name": "ipython",
    "version": 3
   },
   "file_extension": ".py",
   "mimetype": "text/x-python",
   "name": "python",
   "nbconvert_exporter": "python",
   "pygments_lexer": "ipython3",
   "version": "3.8.5"
  }
 },
 "nbformat": 4,
 "nbformat_minor": 5
}
