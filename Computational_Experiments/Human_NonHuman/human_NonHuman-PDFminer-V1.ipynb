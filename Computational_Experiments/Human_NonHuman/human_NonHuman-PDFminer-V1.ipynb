{
 "cells": [
  {
   "cell_type": "code",
   "execution_count": 1,
   "id": "effddb1f",
   "metadata": {},
   "outputs": [
    {
     "name": "stdout",
     "output_type": "stream",
     "text": [
      "                                                 File Human\n",
      "0                      Zehna Corporate Deck SymBiosis    no\n",
      "1                                 PS_TCRR_NOTE_1.5.23    no\n",
      "2                      Grace Sciece Platform (9.2.20)    no\n",
      "3                       AcuamarkDx Series A_Corp Deck    no\n",
      "4                                     coding.bio_deck    no\n",
      "5         Centurion_BioPharma-Non-Confidential_2021_2    no\n",
      "6                              JPM_SRZN_NOTE_11.28.22    no\n",
      "7                                   G_ACET_IOC_4.8.21    no\n",
      "8                                C_ARQT_NOTE_11.15.22    no\n",
      "9                                  B_RXRX_IOC_9.21.21    no\n",
      "10               Dianomi Non-Confidential Slides - v3    no\n",
      "11                           KBC_MAAT.FR_IOC_12.14.21    no\n",
      "12                               Engrail Therapeutics    no\n",
      "13                                 WB_VOR_IOC_1.25.22    no\n",
      "14                                 E_FNCH_IOC_8.10.21    no\n",
      "15                                CG_GRNA_IOC_12.8.22    no\n",
      "16                               LT_AVXL_NOTE_6.22.21    no\n",
      "17                                LT_PHGE_IOC_4.15.21    no\n",
      "18          Graviton Corporate Presentation July 2022    no\n",
      "19                     Bectas Tx Non-Con - Aug.1.2022    no\n",
      "20                    20 080822_PRTA_Research Summary    no\n",
      "21                                CT one-pager Dec 22    no\n",
      "22     221003_PRE_Numab Non-Confidential Presentation    no\n",
      "23        2022-3-18 Apeximmune non-confidential Baird    no\n",
      "24                           Alto Overview_April 2022    no\n",
      "25                        [NON-NDA] Integral Overview    no\n",
      "26                               JMP_NXTC_IOC_5.26.20    no\n",
      "27                   Flare Non-Con Deck November 2022    no\n",
      "28  AscelpiX Corporate Presentation NON CONFIDENTI...    no\n"
     ]
    }
   ],
   "source": [
    "import os\n",
    "import pandas as pd\n",
    "from pdfminer.high_level import extract_text\n",
    "from transformers import pipeline\n",
    "\n",
    "def read_pdf(file):\n",
    "    text = extract_text(file)\n",
    "    return text\n",
    "\n",
    "def is_human_related(text, nlp):\n",
    "    question = \"Does this company primarily focus on solving human-related problems?\"\n",
    "    answer = nlp(question=question, context=text)\n",
    "    return answer['answer']\n",
    "\n",
    "def main():\n",
    "    pdf_folder = \"/Users/amin/Desktop/33/test\"\n",
    "    data = []\n",
    "\n",
    "    nlp = pipeline(\n",
    "        \"question-answering\",\n",
    "        model=\"bert-large-uncased-whole-word-masking-finetuned-squad\",\n",
    "        tokenizer=\"bert-large-uncased-whole-word-masking-finetuned-squad\",\n",
    "    )\n",
    "\n",
    "    for file in os.listdir(pdf_folder):\n",
    "        if file.endswith(\".pdf\"):\n",
    "            file_path = os.path.join(pdf_folder, file)\n",
    "            try:\n",
    "                text = read_pdf(file_path)\n",
    "                human_related = is_human_related(text, nlp)\n",
    "                if human_related.lower() in [\"yes\", \"true\"]:\n",
    "                    human_related = \"yes\"\n",
    "                else:\n",
    "                    human_related = \"no\"\n",
    "                data.append([file[:-4], human_related])\n",
    "            except Exception as e:\n",
    "                print(f\"Error processing {file}: {e}\")\n",
    "\n",
    "    df = pd.DataFrame(data, columns=[\"File\", \"Human\"])\n",
    "    print(df)\n",
    "\n",
    "if __name__ == \"__main__\":\n",
    "    main()\n"
   ]
  },
  {
   "cell_type": "code",
   "execution_count": null,
   "id": "397bad31",
   "metadata": {},
   "outputs": [],
   "source": []
  }
 ],
 "metadata": {
  "kernelspec": {
   "display_name": "Python 3",
   "language": "python",
   "name": "python3"
  },
  "language_info": {
   "codemirror_mode": {
    "name": "ipython",
    "version": 3
   },
   "file_extension": ".py",
   "mimetype": "text/x-python",
   "name": "python",
   "nbconvert_exporter": "python",
   "pygments_lexer": "ipython3",
   "version": "3.8.5"
  }
 },
 "nbformat": 4,
 "nbformat_minor": 5
}
